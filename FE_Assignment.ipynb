{
 "cells": [
  {
   "cell_type": "code",
   "execution_count": 1,
   "id": "7dd85a95",
   "metadata": {},
   "outputs": [],
   "source": [
    "import pandas as pd \n",
    "import numpy as np"
   ]
  },
  {
   "cell_type": "markdown",
   "id": "aedd28af",
   "metadata": {},
   "source": [
    "# Q1: Apply Ordinal encoding."
   ]
  },
  {
   "cell_type": "code",
   "execution_count": 2,
   "id": "a4b7a94a",
   "metadata": {},
   "outputs": [
    {
     "data": {
      "text/plain": [
       "OrdinalEncoder()"
      ]
     },
     "execution_count": 2,
     "metadata": {},
     "output_type": "execute_result"
    }
   ],
   "source": [
    "from sklearn.preprocessing import OrdinalEncoder\n",
    "\n",
    "OrdEnc = OrdinalEncoder()\n",
    "Data = [['Excellent', 5],['Very Good', 6],['Good', 4],['Accepted', 10], ['Bad', 3], ['Very Good', 12]]\n",
    "\n",
    "OrdEnc.fit(Data)"
   ]
  },
  {
   "cell_type": "code",
   "execution_count": 3,
   "id": "2d7d18f1-7208-4a90-8ddf-0ef21100beab",
   "metadata": {},
   "outputs": [
    {
     "data": {
      "text/plain": [
       "[array(['Accepted', 'Bad', 'Excellent', 'Good', 'Very Good'], dtype=object),\n",
       " array([3, 4, 5, 6, 10, 12], dtype=object)]"
      ]
     },
     "execution_count": 3,
     "metadata": {},
     "output_type": "execute_result"
    }
   ],
   "source": [
    "OrdEnc.categories_"
   ]
  },
  {
   "cell_type": "code",
   "execution_count": 4,
   "id": "86ff65cc-8a89-4682-9d08-bacc23da7ff5",
   "metadata": {},
   "outputs": [
    {
     "data": {
      "text/plain": [
       "array([[2., 2.],\n",
       "       [4., 3.],\n",
       "       [3., 1.],\n",
       "       [0., 4.],\n",
       "       [1., 0.],\n",
       "       [4., 5.]])"
      ]
     },
     "execution_count": 4,
     "metadata": {},
     "output_type": "execute_result"
    }
   ],
   "source": [
    "OrdEnc.fit_transform(Data)"
   ]
  },
  {
   "cell_type": "markdown",
   "id": "811de40c",
   "metadata": {},
   "source": [
    "# Q2: Apply One hot encoding."
   ]
  },
  {
   "cell_type": "code",
   "execution_count": 5,
   "id": "47b3cd25",
   "metadata": {},
   "outputs": [
    {
     "data": {
      "text/plain": [
       "OneHotEncoder()"
      ]
     },
     "execution_count": 5,
     "metadata": {},
     "output_type": "execute_result"
    }
   ],
   "source": [
    "from sklearn.preprocessing import OneHotEncoder\n",
    "OneHotEnc = OneHotEncoder()\n",
    "\n",
    "OneHotEnc.fit(Data)"
   ]
  },
  {
   "cell_type": "code",
   "execution_count": 6,
   "id": "1b36e182-e343-48ca-a9fe-387f53369d2e",
   "metadata": {},
   "outputs": [
    {
     "data": {
      "text/plain": [
       "[array(['Accepted', 'Bad', 'Excellent', 'Good', 'Very Good'], dtype=object),\n",
       " array([3, 4, 5, 6, 10, 12], dtype=object)]"
      ]
     },
     "execution_count": 6,
     "metadata": {},
     "output_type": "execute_result"
    }
   ],
   "source": [
    "OneHotEnc.categories_"
   ]
  },
  {
   "cell_type": "code",
   "execution_count": 7,
   "id": "ea6cdce9-edeb-4fe1-a463-56a6fe4a93ca",
   "metadata": {},
   "outputs": [
    {
     "data": {
      "text/plain": [
       "array([[0., 0., 1., 0., 0., 0., 0., 1., 0., 0., 0.],\n",
       "       [0., 0., 0., 0., 1., 0., 0., 0., 1., 0., 0.],\n",
       "       [0., 0., 0., 1., 0., 0., 1., 0., 0., 0., 0.],\n",
       "       [1., 0., 0., 0., 0., 0., 0., 0., 0., 1., 0.],\n",
       "       [0., 1., 0., 0., 0., 1., 0., 0., 0., 0., 0.],\n",
       "       [0., 0., 0., 0., 1., 0., 0., 0., 0., 0., 1.]])"
      ]
     },
     "execution_count": 7,
     "metadata": {},
     "output_type": "execute_result"
    }
   ],
   "source": [
    "OneHotEnc.transform(Data).toarray()"
   ]
  },
  {
   "cell_type": "code",
   "execution_count": 8,
   "id": "39a3fc5a-6316-4ffe-af59-d8146de1a7b6",
   "metadata": {},
   "outputs": [
    {
     "data": {
      "text/plain": [
       "array([['Excellent', 5],\n",
       "       ['Very Good', 6],\n",
       "       ['Good', 4],\n",
       "       ['Accepted', 10],\n",
       "       ['Bad', 3],\n",
       "       ['Very Good', 12]], dtype=object)"
      ]
     },
     "execution_count": 8,
     "metadata": {},
     "output_type": "execute_result"
    }
   ],
   "source": [
    "OneHotEnc.inverse_transform([[0., 0., 1., 0., 0., 0., 0., 1., 0., 0., 0.],\n",
    "       [0., 0., 0., 0., 1., 0., 0., 0., 1., 0., 0.],\n",
    "       [0., 0., 0., 1., 0., 0., 1., 0., 0., 0., 0.],\n",
    "       [1., 0., 0., 0., 0., 0., 0., 0., 0., 1., 0.],\n",
    "       [0., 1., 0., 0., 0., 1., 0., 0., 0., 0., 0.],\n",
    "       [0., 0., 0., 0., 1., 0., 0., 0., 0., 0., 1.]])"
   ]
  },
  {
   "cell_type": "markdown",
   "id": "0e623a63",
   "metadata": {},
   "source": [
    "# Q3: Apply Frequency Encoding. "
   ]
  },
  {
   "cell_type": "code",
   "execution_count": 89,
   "id": "22f1d42c",
   "metadata": {},
   "outputs": [],
   "source": [
    "import random\n",
    "import collections\n",
    "Datalist = ['Excellent', 'Very Good', 'Good', 'Accepted', 'Bad']*100\n",
    "\n",
    "Datalist = random.sample(Datalist, 80)\n",
    "DatalistFreq = collections.Counter(Datalist)\n",
    "DatalistFreq = dict(DatalistFreq)\n",
    "DatalistFreqFinal = pd.DataFrame.from_dict(DatalistFreq, orient='index', columns=['Freq'])"
   ]
  },
  {
   "cell_type": "code",
   "execution_count": 90,
   "id": "f9b9c3e5-d91f-4094-a80d-cffe8114d954",
   "metadata": {},
   "outputs": [
    {
     "data": {
      "text/html": [
       "<div>\n",
       "<style scoped>\n",
       "    .dataframe tbody tr th:only-of-type {\n",
       "        vertical-align: middle;\n",
       "    }\n",
       "\n",
       "    .dataframe tbody tr th {\n",
       "        vertical-align: top;\n",
       "    }\n",
       "\n",
       "    .dataframe thead th {\n",
       "        text-align: right;\n",
       "    }\n",
       "</style>\n",
       "<table border=\"1\" class=\"dataframe\">\n",
       "  <thead>\n",
       "    <tr style=\"text-align: right;\">\n",
       "      <th></th>\n",
       "      <th>Freq</th>\n",
       "    </tr>\n",
       "  </thead>\n",
       "  <tbody>\n",
       "    <tr>\n",
       "      <th>Good</th>\n",
       "      <td>10</td>\n",
       "    </tr>\n",
       "    <tr>\n",
       "      <th>Accepted</th>\n",
       "      <td>18</td>\n",
       "    </tr>\n",
       "    <tr>\n",
       "      <th>Very Good</th>\n",
       "      <td>21</td>\n",
       "    </tr>\n",
       "    <tr>\n",
       "      <th>Bad</th>\n",
       "      <td>15</td>\n",
       "    </tr>\n",
       "    <tr>\n",
       "      <th>Excellent</th>\n",
       "      <td>16</td>\n",
       "    </tr>\n",
       "  </tbody>\n",
       "</table>\n",
       "</div>"
      ],
      "text/plain": [
       "           Freq\n",
       "Good         10\n",
       "Accepted     18\n",
       "Very Good    21\n",
       "Bad          15\n",
       "Excellent    16"
      ]
     },
     "execution_count": 90,
     "metadata": {},
     "output_type": "execute_result"
    }
   ],
   "source": [
    "DatalistFreqFinal"
   ]
  },
  {
   "cell_type": "markdown",
   "id": "2bd30d8c",
   "metadata": {},
   "source": [
    "# Q4: Apply Binary Encoding. "
   ]
  },
  {
   "cell_type": "code",
   "execution_count": 99,
   "id": "e2eb4cc4",
   "metadata": {},
   "outputs": [
    {
     "data": {
      "text/html": [
       "<div>\n",
       "<style scoped>\n",
       "    .dataframe tbody tr th:only-of-type {\n",
       "        vertical-align: middle;\n",
       "    }\n",
       "\n",
       "    .dataframe tbody tr th {\n",
       "        vertical-align: top;\n",
       "    }\n",
       "\n",
       "    .dataframe thead th {\n",
       "        text-align: right;\n",
       "    }\n",
       "</style>\n",
       "<table border=\"1\" class=\"dataframe\">\n",
       "  <thead>\n",
       "    <tr style=\"text-align: right;\">\n",
       "      <th></th>\n",
       "      <th>Grade</th>\n",
       "    </tr>\n",
       "  </thead>\n",
       "  <tbody>\n",
       "    <tr>\n",
       "      <th>0</th>\n",
       "      <td>Excellent</td>\n",
       "    </tr>\n",
       "    <tr>\n",
       "      <th>1</th>\n",
       "      <td>Very Good</td>\n",
       "    </tr>\n",
       "    <tr>\n",
       "      <th>2</th>\n",
       "      <td>Good</td>\n",
       "    </tr>\n",
       "    <tr>\n",
       "      <th>3</th>\n",
       "      <td>Accepted</td>\n",
       "    </tr>\n",
       "    <tr>\n",
       "      <th>4</th>\n",
       "      <td>Bad</td>\n",
       "    </tr>\n",
       "    <tr>\n",
       "      <th>5</th>\n",
       "      <td>Excellent</td>\n",
       "    </tr>\n",
       "    <tr>\n",
       "      <th>6</th>\n",
       "      <td>Very Good</td>\n",
       "    </tr>\n",
       "    <tr>\n",
       "      <th>7</th>\n",
       "      <td>Good</td>\n",
       "    </tr>\n",
       "    <tr>\n",
       "      <th>8</th>\n",
       "      <td>Accepted</td>\n",
       "    </tr>\n",
       "    <tr>\n",
       "      <th>9</th>\n",
       "      <td>Bad</td>\n",
       "    </tr>\n",
       "  </tbody>\n",
       "</table>\n",
       "</div>"
      ],
      "text/plain": [
       "       Grade\n",
       "0  Excellent\n",
       "1  Very Good\n",
       "2       Good\n",
       "3   Accepted\n",
       "4        Bad\n",
       "5  Excellent\n",
       "6  Very Good\n",
       "7       Good\n",
       "8   Accepted\n",
       "9        Bad"
      ]
     },
     "execution_count": 99,
     "metadata": {},
     "output_type": "execute_result"
    }
   ],
   "source": [
    "from sklearn.preprocessing import LabelEncoder, LabelBinarizer\n",
    "import math\n",
    "\n",
    "Datalist = ['Excellent', 'Very Good', 'Good', 'Accepted', 'Bad']*2\n",
    "\n",
    "DataBinaryDF = pd.DataFrame(Datalist, columns=['Grade'])\n",
    "DataBinaryDF"
   ]
  },
  {
   "cell_type": "code",
   "execution_count": 100,
   "id": "699fb6c9-41c2-4520-9a87-930b5901ec40",
   "metadata": {},
   "outputs": [
    {
     "data": {
      "text/plain": [
       "LabelEncoder()"
      ]
     },
     "execution_count": 100,
     "metadata": {},
     "output_type": "execute_result"
    }
   ],
   "source": [
    "LabelEnc = LabelEncoder()\n",
    "LabelEnc.fit(Datalist)"
   ]
  },
  {
   "cell_type": "code",
   "execution_count": 101,
   "id": "404c9079-0263-4019-a8ff-79933c4492e6",
   "metadata": {},
   "outputs": [
    {
     "data": {
      "text/plain": [
       "array(['Accepted', 'Bad', 'Excellent', 'Good', 'Very Good'], dtype='<U9')"
      ]
     },
     "execution_count": 101,
     "metadata": {},
     "output_type": "execute_result"
    }
   ],
   "source": [
    "LabelEnc.classes_"
   ]
  },
  {
   "cell_type": "code",
   "execution_count": 102,
   "id": "b16bdfb5-6de0-467d-ab8a-f17495fd2dd0",
   "metadata": {},
   "outputs": [
    {
     "data": {
      "text/plain": [
       "array([2, 4, 3, 0, 1, 2, 4, 3, 0, 1], dtype=int64)"
      ]
     },
     "execution_count": 102,
     "metadata": {},
     "output_type": "execute_result"
    }
   ],
   "source": [
    "DataNumCate = LabelEnc.fit_transform(Datalist)\n",
    "DataNumCate"
   ]
  },
  {
   "cell_type": "code",
   "execution_count": 103,
   "id": "a1ed472a-5a9d-4c0b-a082-2408ee1ed306",
   "metadata": {},
   "outputs": [],
   "source": [
    "DataBinaryDF['CatLabel'] = DataNumCate"
   ]
  },
  {
   "cell_type": "code",
   "execution_count": 104,
   "id": "47984597-be7f-4ce6-879e-e3f36ca319da",
   "metadata": {},
   "outputs": [
    {
     "data": {
      "text/html": [
       "<div>\n",
       "<style scoped>\n",
       "    .dataframe tbody tr th:only-of-type {\n",
       "        vertical-align: middle;\n",
       "    }\n",
       "\n",
       "    .dataframe tbody tr th {\n",
       "        vertical-align: top;\n",
       "    }\n",
       "\n",
       "    .dataframe thead th {\n",
       "        text-align: right;\n",
       "    }\n",
       "</style>\n",
       "<table border=\"1\" class=\"dataframe\">\n",
       "  <thead>\n",
       "    <tr style=\"text-align: right;\">\n",
       "      <th></th>\n",
       "      <th>Grade</th>\n",
       "      <th>CatLabel</th>\n",
       "    </tr>\n",
       "  </thead>\n",
       "  <tbody>\n",
       "    <tr>\n",
       "      <th>0</th>\n",
       "      <td>Excellent</td>\n",
       "      <td>2</td>\n",
       "    </tr>\n",
       "    <tr>\n",
       "      <th>1</th>\n",
       "      <td>Very Good</td>\n",
       "      <td>4</td>\n",
       "    </tr>\n",
       "    <tr>\n",
       "      <th>2</th>\n",
       "      <td>Good</td>\n",
       "      <td>3</td>\n",
       "    </tr>\n",
       "    <tr>\n",
       "      <th>3</th>\n",
       "      <td>Accepted</td>\n",
       "      <td>0</td>\n",
       "    </tr>\n",
       "    <tr>\n",
       "      <th>4</th>\n",
       "      <td>Bad</td>\n",
       "      <td>1</td>\n",
       "    </tr>\n",
       "    <tr>\n",
       "      <th>5</th>\n",
       "      <td>Excellent</td>\n",
       "      <td>2</td>\n",
       "    </tr>\n",
       "    <tr>\n",
       "      <th>6</th>\n",
       "      <td>Very Good</td>\n",
       "      <td>4</td>\n",
       "    </tr>\n",
       "    <tr>\n",
       "      <th>7</th>\n",
       "      <td>Good</td>\n",
       "      <td>3</td>\n",
       "    </tr>\n",
       "    <tr>\n",
       "      <th>8</th>\n",
       "      <td>Accepted</td>\n",
       "      <td>0</td>\n",
       "    </tr>\n",
       "    <tr>\n",
       "      <th>9</th>\n",
       "      <td>Bad</td>\n",
       "      <td>1</td>\n",
       "    </tr>\n",
       "  </tbody>\n",
       "</table>\n",
       "</div>"
      ],
      "text/plain": [
       "       Grade  CatLabel\n",
       "0  Excellent         2\n",
       "1  Very Good         4\n",
       "2       Good         3\n",
       "3   Accepted         0\n",
       "4        Bad         1\n",
       "5  Excellent         2\n",
       "6  Very Good         4\n",
       "7       Good         3\n",
       "8   Accepted         0\n",
       "9        Bad         1"
      ]
     },
     "execution_count": 104,
     "metadata": {},
     "output_type": "execute_result"
    }
   ],
   "source": [
    "DataBinaryDF"
   ]
  },
  {
   "cell_type": "code",
   "execution_count": 82,
   "id": "6a5f2329-b366-41bc-b83f-915470769d0f",
   "metadata": {},
   "outputs": [],
   "source": [
    "def DecimalToBinary(Num, NumOfDigit):\n",
    "    List = []\n",
    "    \n",
    "    for i  in range(NumOfDigit):\n",
    "         List.append(0)\n",
    "            \n",
    "    Binary = 0\n",
    "    \n",
    "    if Num == 0:\n",
    "        pass\n",
    "    \n",
    "    i = -1\n",
    "    while(Num > 0):\n",
    "        Binary = (Num%2)\n",
    "        List[i] = Binary\n",
    "        Num = int(Num/2)\n",
    "        i -= 1\n",
    "    return List"
   ]
  },
  {
   "cell_type": "code",
   "execution_count": 83,
   "id": "c9f1735c-1e0a-447e-bd63-17ca89fc992f",
   "metadata": {},
   "outputs": [
    {
     "data": {
      "text/plain": [
       "3.0"
      ]
     },
     "execution_count": 83,
     "metadata": {},
     "output_type": "execute_result"
    }
   ],
   "source": [
    "NumList = [int(x) for x in DataNumCate]\n",
    "MaxVal = max(NumList)\n",
    "NumOfDigits = math.log(MaxVal,2)+1\n",
    "NumOfDigits"
   ]
  },
  {
   "cell_type": "code",
   "execution_count": 86,
   "id": "2ea1b595-9567-47e9-94c9-1f7c3fbdfbcd",
   "metadata": {},
   "outputs": [
    {
     "data": {
      "text/plain": [
       "[[0, 1, 0],\n",
       " [1, 0, 0],\n",
       " [0, 1, 1],\n",
       " [0, 0, 0],\n",
       " [0, 0, 1],\n",
       " [0, 1, 0],\n",
       " [1, 0, 0],\n",
       " [0, 1, 1],\n",
       " [0, 0, 0],\n",
       " [0, 0, 1]]"
      ]
     },
     "execution_count": 86,
     "metadata": {},
     "output_type": "execute_result"
    }
   ],
   "source": [
    "AllNum = []\n",
    "for Category in NumList: \n",
    "    AllNum.append(DecimalToBinary(int(Category), int(NumOfDigits)))\n",
    "AllNum"
   ]
  },
  {
   "cell_type": "code",
   "execution_count": 97,
   "id": "55faf776-ccae-4149-a35b-bdf2abb83647",
   "metadata": {},
   "outputs": [
    {
     "data": {
      "text/html": [
       "<div>\n",
       "<style scoped>\n",
       "    .dataframe tbody tr th:only-of-type {\n",
       "        vertical-align: middle;\n",
       "    }\n",
       "\n",
       "    .dataframe tbody tr th {\n",
       "        vertical-align: top;\n",
       "    }\n",
       "\n",
       "    .dataframe thead th {\n",
       "        text-align: right;\n",
       "    }\n",
       "</style>\n",
       "<table border=\"1\" class=\"dataframe\">\n",
       "  <thead>\n",
       "    <tr style=\"text-align: right;\">\n",
       "      <th></th>\n",
       "      <th>D1</th>\n",
       "      <th>D2</th>\n",
       "      <th>D3</th>\n",
       "    </tr>\n",
       "  </thead>\n",
       "  <tbody>\n",
       "    <tr>\n",
       "      <th>0</th>\n",
       "      <td>0</td>\n",
       "      <td>1</td>\n",
       "      <td>0</td>\n",
       "    </tr>\n",
       "    <tr>\n",
       "      <th>1</th>\n",
       "      <td>1</td>\n",
       "      <td>0</td>\n",
       "      <td>0</td>\n",
       "    </tr>\n",
       "    <tr>\n",
       "      <th>2</th>\n",
       "      <td>0</td>\n",
       "      <td>1</td>\n",
       "      <td>1</td>\n",
       "    </tr>\n",
       "    <tr>\n",
       "      <th>3</th>\n",
       "      <td>0</td>\n",
       "      <td>0</td>\n",
       "      <td>0</td>\n",
       "    </tr>\n",
       "    <tr>\n",
       "      <th>4</th>\n",
       "      <td>0</td>\n",
       "      <td>0</td>\n",
       "      <td>1</td>\n",
       "    </tr>\n",
       "    <tr>\n",
       "      <th>5</th>\n",
       "      <td>0</td>\n",
       "      <td>1</td>\n",
       "      <td>0</td>\n",
       "    </tr>\n",
       "    <tr>\n",
       "      <th>6</th>\n",
       "      <td>1</td>\n",
       "      <td>0</td>\n",
       "      <td>0</td>\n",
       "    </tr>\n",
       "    <tr>\n",
       "      <th>7</th>\n",
       "      <td>0</td>\n",
       "      <td>1</td>\n",
       "      <td>1</td>\n",
       "    </tr>\n",
       "    <tr>\n",
       "      <th>8</th>\n",
       "      <td>0</td>\n",
       "      <td>0</td>\n",
       "      <td>0</td>\n",
       "    </tr>\n",
       "    <tr>\n",
       "      <th>9</th>\n",
       "      <td>0</td>\n",
       "      <td>0</td>\n",
       "      <td>1</td>\n",
       "    </tr>\n",
       "  </tbody>\n",
       "</table>\n",
       "</div>"
      ],
      "text/plain": [
       "   D1  D2  D3\n",
       "0   0   1   0\n",
       "1   1   0   0\n",
       "2   0   1   1\n",
       "3   0   0   0\n",
       "4   0   0   1\n",
       "5   0   1   0\n",
       "6   1   0   0\n",
       "7   0   1   1\n",
       "8   0   0   0\n",
       "9   0   0   1"
      ]
     },
     "execution_count": 97,
     "metadata": {},
     "output_type": "execute_result"
    }
   ],
   "source": [
    "DF = pd.DataFrame(AllNum, columns=['D1','D2','D3'])\n",
    "DF"
   ]
  },
  {
   "cell_type": "code",
   "execution_count": 105,
   "id": "8e5122a6-db59-44d7-a56a-76b19ec64d6a",
   "metadata": {},
   "outputs": [
    {
     "data": {
      "text/html": [
       "<div>\n",
       "<style scoped>\n",
       "    .dataframe tbody tr th:only-of-type {\n",
       "        vertical-align: middle;\n",
       "    }\n",
       "\n",
       "    .dataframe tbody tr th {\n",
       "        vertical-align: top;\n",
       "    }\n",
       "\n",
       "    .dataframe thead th {\n",
       "        text-align: right;\n",
       "    }\n",
       "</style>\n",
       "<table border=\"1\" class=\"dataframe\">\n",
       "  <thead>\n",
       "    <tr style=\"text-align: right;\">\n",
       "      <th></th>\n",
       "      <th>Grade</th>\n",
       "      <th>CatLabel</th>\n",
       "      <th>D1</th>\n",
       "      <th>D2</th>\n",
       "      <th>D3</th>\n",
       "    </tr>\n",
       "  </thead>\n",
       "  <tbody>\n",
       "    <tr>\n",
       "      <th>0</th>\n",
       "      <td>Excellent</td>\n",
       "      <td>2</td>\n",
       "      <td>0</td>\n",
       "      <td>1</td>\n",
       "      <td>0</td>\n",
       "    </tr>\n",
       "    <tr>\n",
       "      <th>1</th>\n",
       "      <td>Very Good</td>\n",
       "      <td>4</td>\n",
       "      <td>1</td>\n",
       "      <td>0</td>\n",
       "      <td>0</td>\n",
       "    </tr>\n",
       "    <tr>\n",
       "      <th>2</th>\n",
       "      <td>Good</td>\n",
       "      <td>3</td>\n",
       "      <td>0</td>\n",
       "      <td>1</td>\n",
       "      <td>1</td>\n",
       "    </tr>\n",
       "    <tr>\n",
       "      <th>3</th>\n",
       "      <td>Accepted</td>\n",
       "      <td>0</td>\n",
       "      <td>0</td>\n",
       "      <td>0</td>\n",
       "      <td>0</td>\n",
       "    </tr>\n",
       "    <tr>\n",
       "      <th>4</th>\n",
       "      <td>Bad</td>\n",
       "      <td>1</td>\n",
       "      <td>0</td>\n",
       "      <td>0</td>\n",
       "      <td>1</td>\n",
       "    </tr>\n",
       "    <tr>\n",
       "      <th>5</th>\n",
       "      <td>Excellent</td>\n",
       "      <td>2</td>\n",
       "      <td>0</td>\n",
       "      <td>1</td>\n",
       "      <td>0</td>\n",
       "    </tr>\n",
       "    <tr>\n",
       "      <th>6</th>\n",
       "      <td>Very Good</td>\n",
       "      <td>4</td>\n",
       "      <td>1</td>\n",
       "      <td>0</td>\n",
       "      <td>0</td>\n",
       "    </tr>\n",
       "    <tr>\n",
       "      <th>7</th>\n",
       "      <td>Good</td>\n",
       "      <td>3</td>\n",
       "      <td>0</td>\n",
       "      <td>1</td>\n",
       "      <td>1</td>\n",
       "    </tr>\n",
       "    <tr>\n",
       "      <th>8</th>\n",
       "      <td>Accepted</td>\n",
       "      <td>0</td>\n",
       "      <td>0</td>\n",
       "      <td>0</td>\n",
       "      <td>0</td>\n",
       "    </tr>\n",
       "    <tr>\n",
       "      <th>9</th>\n",
       "      <td>Bad</td>\n",
       "      <td>1</td>\n",
       "      <td>0</td>\n",
       "      <td>0</td>\n",
       "      <td>1</td>\n",
       "    </tr>\n",
       "  </tbody>\n",
       "</table>\n",
       "</div>"
      ],
      "text/plain": [
       "       Grade  CatLabel  D1  D2  D3\n",
       "0  Excellent         2   0   1   0\n",
       "1  Very Good         4   1   0   0\n",
       "2       Good         3   0   1   1\n",
       "3   Accepted         0   0   0   0\n",
       "4        Bad         1   0   0   1\n",
       "5  Excellent         2   0   1   0\n",
       "6  Very Good         4   1   0   0\n",
       "7       Good         3   0   1   1\n",
       "8   Accepted         0   0   0   0\n",
       "9        Bad         1   0   0   1"
      ]
     },
     "execution_count": 105,
     "metadata": {},
     "output_type": "execute_result"
    }
   ],
   "source": [
    "DataBinaryDF.join(DF)"
   ]
  }
 ],
 "metadata": {
  "kernelspec": {
   "display_name": "Python 3 (ipykernel)",
   "language": "python",
   "name": "python3"
  },
  "language_info": {
   "codemirror_mode": {
    "name": "ipython",
    "version": 3
   },
   "file_extension": ".py",
   "mimetype": "text/x-python",
   "name": "python",
   "nbconvert_exporter": "python",
   "pygments_lexer": "ipython3",
   "version": "3.9.7"
  }
 },
 "nbformat": 4,
 "nbformat_minor": 5
}
